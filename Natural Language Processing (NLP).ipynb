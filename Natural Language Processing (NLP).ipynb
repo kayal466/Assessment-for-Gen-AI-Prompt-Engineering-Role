{
 "cells": [
  {
   "cell_type": "code",
   "execution_count": 3,
   "id": "1d3a4a1d",
   "metadata": {},
   "outputs": [
    {
     "name": "stderr",
     "output_type": "stream",
     "text": [
      "[nltk_data] Downloading package punkt to\n",
      "[nltk_data]     C:\\Users\\kayalvizhi\\AppData\\Roaming\\nltk_data...\n",
      "[nltk_data]   Package punkt is already up-to-date!\n",
      "[nltk_data] Downloading package stopwords to\n",
      "[nltk_data]     C:\\Users\\kayalvizhi\\AppData\\Roaming\\nltk_data...\n",
      "[nltk_data]   Package stopwords is already up-to-date!\n"
     ]
    }
   ],
   "source": [
    "import nltk\n",
    "from nltk.tokenize import word_tokenize\n",
    "from nltk.corpus import stopwords\n",
    "from nltk.tokenize import regexp_tokenize\n",
    "import re\n",
    "nltk.download('punkt')\n",
    "nltk.download('stopwords')\n",
    "\n",
    "stop_words = stopwords.words('english')\n",
    "def Clean_text(text):\n",
    "    text = text.lower()  # Lowercase\n",
    "    text = re.sub(r'[^a-zA-Z0-9\\s]', '', text)  # Remove special characters\n",
    "    text = re.sub(r'\\d+', '', text)  # Remove digits\n",
    "    text = re.sub(r'\\s+', ' ', text)  # Remove extra whitespace\n",
    "    pattern = r\"(https?://)?(www\\.)?\"\n",
    "    text = re.sub(pattern, '', text)  # Remove URLs\n",
    "    text = nltk.word_tokenize(text)  # Tokenize\n",
    "    text = [word for word in text if word not in stop_words] # Remove stopwords\n",
    "    return text"
   ]
  },
  {
   "cell_type": "code",
   "execution_count": 5,
   "id": "e0733307",
   "metadata": {},
   "outputs": [
    {
     "name": "stdout",
     "output_type": "stream",
     "text": [
      "['internet', 'vast', 'global', 'network', 'connects', 'millions', 'private', 'public', 'academic', 'business', 'government', 'networks', 'allows', 'users', 'access', 'share', 'communicate', 'information', 'quickly', 'efficiently', 'various', 'technologies', 'like', 'world', 'wide', 'web', 'email', 'social', 'media', 'online', 'services', 'internet', 'transformed', 'people', 'interact', 'learn', 'work', 'entertain', 'supports', 'range', 'activities', 'browsing', 'websites', 'streaming', 'content', 'participating', 'online', 'communities', 'conducting', 'business', 'transactions', 'internet', 'become', 'integral', 'part', 'modern', 'life', 'shaping', 'economies', 'cultures', 'social', 'dynamics', 'worldwide']\n"
     ]
    }
   ],
   "source": [
    " #EXAMPLE USAGE\n",
    "text=\"The internet is a vast global network that connects millions of private, public, academic, business, and government networks. It allows users to access, share, and communicate information quickly and efficiently. Through various technologies like the World Wide Web, email, social media, and online services, the internet has transformed how people interact, learn, work, and entertain themselves. It supports a range of activities from browsing websites and streaming content to participating in online communities and conducting business transactions. The internet has become an integral part of modern life, shaping economies, cultures, and social dynamics worldwide.\"\n",
    "cleaned_text=Clean_text(text)\n",
    "print(cleaned_text)"
   ]
  },
  {
   "cell_type": "markdown",
   "id": "419cda15",
   "metadata": {},
   "source": [
    "Here i have created a simple python function to preprocess the text."
   ]
  }
 ],
 "metadata": {
  "kernelspec": {
   "display_name": "Python 3 (ipykernel)",
   "language": "python",
   "name": "python3"
  },
  "language_info": {
   "codemirror_mode": {
    "name": "ipython",
    "version": 3
   },
   "file_extension": ".py",
   "mimetype": "text/x-python",
   "name": "python",
   "nbconvert_exporter": "python",
   "pygments_lexer": "ipython3",
   "version": "3.9.13"
  }
 },
 "nbformat": 4,
 "nbformat_minor": 5
}
